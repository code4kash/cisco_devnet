{
 "cells": [
  {
   "attachments": {},
   "cell_type": "markdown",
   "metadata": {},
   "source": [
    "v1.3\n",
    "# Introduction to Git\n",
    "\n",
    "### Configure Git Locally\n",
    "\n",
    "Now that GitHub defaults to using the main branch on all new repositories created, you want to set up your local Git so that when you type git init the branch created is also named main."
   ]
  },
  {
   "cell_type": "code",
   "execution_count": null,
   "metadata": {},
   "outputs": [],
   "source": [
    "git config --global init.defaultBranch main"
   ]
  },
  {
   "attachments": {},
   "cell_type": "markdown",
   "metadata": {},
   "source": [
    "### Configure your user for Git (one-time setup)\n",
    "\n",
    "You need to tell Git who you are before you can commit any changes to a repository.\n",
    "\n",
    "Run the following git config commands in the terminal. Use your own name and the e-mail address that you used when you created your GitHub account:"
   ]
  },
  {
   "cell_type": "code",
   "execution_count": null,
   "metadata": {},
   "outputs": [],
   "source": [
    "git config --global user.name \"Your Name\"\n",
    "git config --global user.email your@email-address.com"
   ]
  },
  {
   "attachments": {},
   "cell_type": "markdown",
   "metadata": {},
   "source": [
    "If you ever see any errors about permissions from Git, make sure you have correctly set your user.name and user.email. You can always look at those settings by running this command to see the current configuration:"
   ]
  },
  {
   "cell_type": "code",
   "execution_count": null,
   "metadata": {},
   "outputs": [],
   "source": [
    "git config --list"
   ]
  },
  {
   "attachments": {},
   "cell_type": "markdown",
   "metadata": {},
   "source": [
    "### Create a personal access token\n",
    "\n",
    "When you interact with github.com, you need a personal access token. Use the token like a password, and treat it with the same level of security. When a token expires, you must create a new one.\n",
    "\n",
    "Create a personal access token with repo permissions in the Settings of your personal GitHub account, under Personal access tokens. Refer to GitHub's documentation for \"Creating a personal access token\".\n",
    "\n",
    "In these exercises, enter the token whenever you're prompted for a password, as shown in the following example."
   ]
  },
  {
   "cell_type": "code",
   "execution_count": null,
   "metadata": {},
   "outputs": [],
   "source": [
    "developer:src > git clone https://github.com/username/repo.git\n",
    "Username: your_username\n",
    "Password: your_token"
   ]
  },
  {
   "attachments": {},
   "cell_type": "markdown",
   "metadata": {},
   "source": [
    "# Basic Git Workflows\n",
    "\n",
    "### Cloning a repository (git clone)\n",
    "\n",
    "When you want to work with someone else's code, you first have to get it on your machine. For this task, use the git clone command.\n",
    "\n",
    "When you clone a repository, you copy files to a folder in the location where you run the command.\n",
    "\n",
    "Use the following command to clone the correct sample code repository:"
   ]
  },
  {
   "cell_type": "code",
   "execution_count": null,
   "metadata": {},
   "outputs": [],
   "source": [
    "git clone --branch main https://github.com/\"account_name\"/\"repository_name\".git"
   ]
  },
  {
   "attachments": {},
   "cell_type": "markdown",
   "metadata": {},
   "source": [
    "Now that you have the repo on your computer, get it ready for you to edit and commit your changes. \n",
    "\n",
    "From the repo root, you can see all the changes that were made in the history of the repo. Let's give it a try."
   ]
  },
  {
   "cell_type": "code",
   "execution_count": null,
   "metadata": {},
   "outputs": [],
   "source": [
    "git log\n",
    "\n",
    "# q - to quit log results"
   ]
  },
  {
   "attachments": {},
   "cell_type": "markdown",
   "metadata": {},
   "source": [
    "You can verify which branch you are working on and the status of your working tree with the git status command:\n",
    "\n",
    "Run this command in the terminal:"
   ]
  },
  {
   "cell_type": "code",
   "execution_count": null,
   "metadata": {},
   "outputs": [],
   "source": [
    "git status"
   ]
  },
  {
   "attachments": {},
   "cell_type": "markdown",
   "metadata": {},
   "source": [
    "Run this command in the terminal to create a new branch with a \"branch_name\". \n",
    "\n",
    "Use the git checkout command to switch between branches. Adding the -b option instructs Git to create a new branch and then switch to it.:"
   ]
  },
  {
   "cell_type": "code",
   "execution_count": null,
   "metadata": {},
   "outputs": [],
   "source": [
    "git checkout -b \"branch_name\" # add name for the new branch"
   ]
  },
  {
   "attachments": {},
   "cell_type": "markdown",
   "metadata": {},
   "source": [
    "Run the git branch command at any time to see which branches you have locally. The asterisk * indicates which branch is active:"
   ]
  },
  {
   "cell_type": "code",
   "execution_count": null,
   "metadata": {},
   "outputs": [],
   "source": [
    "git branch"
   ]
  },
  {
   "attachments": {},
   "cell_type": "markdown",
   "metadata": {},
   "source": [
    "Switches to the specified branch and updates the working directory"
   ]
  },
  {
   "cell_type": "code",
   "execution_count": null,
   "metadata": {},
   "outputs": [],
   "source": [
    "git switch -c \"branch-name\""
   ]
  },
  {
   "attachments": {},
   "cell_type": "markdown",
   "metadata": {},
   "source": [
    "Combines the specified branch’s history into the current branch. This is usually done in pull requests, but is an important Git operation."
   ]
  },
  {
   "cell_type": "code",
   "execution_count": null,
   "metadata": {},
   "outputs": [],
   "source": [
    "git merge \"branch-name\""
   ]
  },
  {
   "attachments": {},
   "cell_type": "markdown",
   "metadata": {},
   "source": [
    "To download the latest updates from your remote repo to your local repo, run the following command in the terminal:"
   ]
  },
  {
   "cell_type": "code",
   "execution_count": null,
   "metadata": {},
   "outputs": [],
   "source": [
    "git fetch"
   ]
  },
  {
   "attachments": {},
   "cell_type": "markdown",
   "metadata": {},
   "source": [
    "In order to see the difference between the local repo and the remote repo use the following command:"
   ]
  },
  {
   "cell_type": "code",
   "execution_count": null,
   "metadata": {},
   "outputs": [],
   "source": [
    "git diff"
   ]
  },
  {
   "attachments": {},
   "cell_type": "markdown",
   "metadata": {},
   "source": [
    "In order to revert any changes made to a local repo and restore to the last committed version of the file back, use the \"git checkout\" to retrieve the last version of the file and overwrite the changes made."
   ]
  },
  {
   "cell_type": "code",
   "execution_count": null,
   "metadata": {},
   "outputs": [],
   "source": [
    "git checkout \"file_pathway\""
   ]
  },
  {
   "attachments": {},
   "cell_type": "markdown",
   "metadata": {},
   "source": [
    "To revert multiple changes:"
   ]
  },
  {
   "cell_type": "code",
   "execution_count": null,
   "metadata": {},
   "outputs": [],
   "source": [
    "git reset --hard"
   ]
  },
  {
   "attachments": {},
   "cell_type": "markdown",
   "metadata": {},
   "source": [
    "\n",
    "\n",
    "Use the following to delete a branch:"
   ]
  },
  {
   "cell_type": "code",
   "execution_count": null,
   "metadata": {},
   "outputs": [],
   "source": [
    "git branch --delete --force <branch name>"
   ]
  },
  {
   "attachments": {},
   "cell_type": "markdown",
   "metadata": {},
   "source": [
    "### Making a Commit\n",
    "\n",
    "Committing your changes to a repository is a two-step process:\n",
    "\n",
    "Add: Stage files to the commit with git add\n",
    "\n",
    "Commit: Commit the files to the repository with a commit message and git commit.\n",
    "\n",
    "\n",
    "You can put a file \"under\" version control so that Git knows about it:"
   ]
  },
  {
   "cell_type": "code",
   "execution_count": null,
   "metadata": {},
   "outputs": [],
   "source": [
    "git add <file_path>"
   ]
  },
  {
   "attachments": {},
   "cell_type": "markdown",
   "metadata": {},
   "source": [
    "Now you can commit the changes you want Git to record, and add a commit message. If you want to type the message in manually, you can use another message within the double quotes. This message is an example:"
   ]
  },
  {
   "cell_type": "code",
   "execution_count": null,
   "metadata": {},
   "outputs": [],
   "source": [
    "git commit -m \"Git Commit - Adds current Date.\" # -m (message) and \"message content\""
   ]
  },
  {
   "attachments": {},
   "cell_type": "markdown",
   "metadata": {},
   "source": [
    "Step\tAction\tGit Commands\n",
    "\n",
    "1\tClone the Remote Repository\t\"git clone <url>\"\n",
    "\n",
    "2\tCreate and Checkout a Local Branch\t\"git checkout -b <new branch name>\"\n",
    "\n",
    "3\tIncrementally Commit Changes \"git add <new or modified file>\" git commit -m \"Commit Message\""
   ]
  },
  {
   "attachments": {},
   "cell_type": "markdown",
   "metadata": {},
   "source": [
    "### Creating a New GitHub repository\n",
    "\n",
    "Initialize the Git repo in <the_folder>:"
   ]
  },
  {
   "cell_type": "code",
   "execution_count": null,
   "metadata": {},
   "outputs": [],
   "source": [
    "git init"
   ]
  },
  {
   "attachments": {},
   "cell_type": "markdown",
   "metadata": {},
   "source": [
    "Next, add all the files you want to have in the repo, as indicated with the period . :"
   ]
  },
  {
   "cell_type": "code",
   "execution_count": null,
   "metadata": {},
   "outputs": [],
   "source": [
    "git add ."
   ]
  },
  {
   "attachments": {},
   "cell_type": "markdown",
   "metadata": {},
   "source": [
    "Create that commit, or a point in time for the state of the current files in the directory.\n",
    "\n",
    "The --all or -a parameter tells Git to automatically stage all the files that you have modified (and deleted, although we haven't deleted any with this commit). The phrase in quotes after the -m parameter is the commit message. You can type in a different one if you want."
   ]
  },
  {
   "cell_type": "code",
   "execution_count": null,
   "metadata": {},
   "outputs": [],
   "source": [
    "git commit --all -m \"commit_message\""
   ]
  },
  {
   "attachments": {},
   "cell_type": "markdown",
   "metadata": {},
   "source": [
    "In the terminal window, enter these git commands to add a \"remote\" named \"origin\" and then paste in the HTTPS reference, such as https://github.com/<git_username>/<git_repo_name>.git"
   ]
  },
  {
   "cell_type": "code",
   "execution_count": null,
   "metadata": {},
   "outputs": [],
   "source": [
    "git remote add origin <paste the HTTPS reference link>"
   ]
  },
  {
   "attachments": {},
   "cell_type": "markdown",
   "metadata": {},
   "source": [
    "In the terminal window, set the newly added remote \"origin\" as the upstream tracker, and push the initial commit to this new branch named main. \n",
    "\n",
    "Note: Use your authentication token when prompted for a password."
   ]
  },
  {
   "cell_type": "code",
   "execution_count": null,
   "metadata": {},
   "outputs": [],
   "source": [
    "git push --set-upstream origin main"
   ]
  },
  {
   "attachments": {},
   "cell_type": "markdown",
   "metadata": {},
   "source": [
    "# Resources:\n",
    "\n",
    "Git Training Kit - https://training.github.com/\n",
    "\n",
    "Git Reference - https://git-scm.com/docs\n",
    "\n",
    "Git Documentation - https://git-scm.com/doc\n",
    "\n",
    "Git W3Schools - https://www.w3schools.com/git/default.asp?remote=github\n"
   ]
  }
 ],
 "metadata": {
  "kernelspec": {
   "display_name": "Python 3",
   "language": "python",
   "name": "python3"
  },
  "language_info": {
   "name": "python",
   "version": "3.9.6 (default, Oct 18 2022, 12:41:40) \n[Clang 14.0.0 (clang-1400.0.29.202)]"
  },
  "orig_nbformat": 4,
  "vscode": {
   "interpreter": {
    "hash": "31f2aee4e71d21fbe5cf8b01ff0e069b9275f58929596ceb00d14d90e3e16cd6"
   }
  }
 },
 "nbformat": 4,
 "nbformat_minor": 2
}
