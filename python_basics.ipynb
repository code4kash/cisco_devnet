{
 "cells": [
  {
   "attachments": {},
   "cell_type": "markdown",
   "metadata": {},
   "source": [
    "v1.4\n",
    "\n",
    "# Introduction to Python\n",
    "\n",
    "### Python Virtual Environments\n",
    "\n",
    "Virtual environments are an elegant way to unclutter your global Python environment and isolate projects from each other. At first, they might sound somewhat mysterious, but they are conceptually simple.\n",
    "\n",
    "First, take a look at what is installed in the in-browser environment already:"
   ]
  },
  {
   "cell_type": "code",
   "execution_count": null,
   "metadata": {},
   "outputs": [],
   "source": [
    "pip freeze"
   ]
  },
  {
   "attachments": {},
   "cell_type": "markdown",
   "metadata": {},
   "source": [
    "Using Python virtual environments is best practice, so how about getting some practice here. The syntax for the venv command in Python 3 is as below:\n",
    "\n",
    "note: You won't see anything in return, but if you list the directory contents, you'll see a new <virtual environment name> folder listed:"
   ]
  },
  {
   "attachments": {},
   "cell_type": "markdown",
   "metadata": {},
   "source": [
    "python -m venv <virtual environment name>"
   ]
  },
  {
   "attachments": {},
   "cell_type": "markdown",
   "metadata": {},
   "source": [
    "Now you can go ahead and activate your Python virtual environment in the in-browser terminal:\n",
    "\n",
    "note: cd into the directory containing the virtual environment\n",
    "\n",
    "Windows: (Use the windows command if you are trying this in your own Windows environment in a Git Bash window.)\n",
    "\n"
   ]
  },
  {
   "cell_type": "code",
   "execution_count": null,
   "metadata": {},
   "outputs": [],
   "source": [
    "source <virtual environment name>/bin/activate # Linux\n",
    "\n",
    "source <virtual environment name>/Scripts/activate # Windows\n",
    "\n",
    "deactivate # deactivate venv"
   ]
  },
  {
   "attachments": {},
   "cell_type": "markdown",
   "metadata": {},
   "source": [
    "check \"pip freeze\" in the venv and you'll notice there are no packages installed.\n",
    "\n",
    "### Upgrade environment packages:\n",
    "\n",
    "Install the the following packages in the environments:\n",
    "\n",
    "1. Upgrade Python\n",
    "\n",
    "2. Install the Requests library\n",
    "\n",
    "\n",
    "\n"
   ]
  },
  {
   "cell_type": "code",
   "execution_count": null,
   "metadata": {},
   "outputs": [],
   "source": [
    "python -m pip install --upgrade pip # Upgrade Python\n",
    "\n",
    "pip install requests # Requests library"
   ]
  },
  {
   "attachments": {},
   "cell_type": "markdown",
   "metadata": {},
   "source": [
    "Verify Python Interpretator:"
   ]
  },
  {
   "cell_type": "code",
   "execution_count": null,
   "metadata": {},
   "outputs": [],
   "source": [
    "which python"
   ]
  },
  {
   "attachments": {},
   "cell_type": "markdown",
   "metadata": {},
   "source": [
    "Now verify that our package installed successfully.\n",
    "\n",
    "\n"
   ]
  },
  {
   "cell_type": "code",
   "execution_count": null,
   "metadata": {},
   "outputs": [],
   "source": [
    "pip list"
   ]
  },
  {
   "attachments": {},
   "cell_type": "markdown",
   "metadata": {},
   "source": [
    "Get the full path to the interpreter:\n"
   ]
  },
  {
   "cell_type": "code",
   "execution_count": null,
   "metadata": {},
   "outputs": [],
   "source": [
    "python -V"
   ]
  },
  {
   "attachments": {},
   "cell_type": "markdown",
   "metadata": {},
   "source": [
    "### Install requirements in a venv\n",
    "\n",
    "You can create a requirements.txt file in the directory and see and edit it's contents using the \"cat\" command.\n",
    "\n",
    "Next you can install the requirements using the below commands:"
   ]
  },
  {
   "cell_type": "code",
   "execution_count": null,
   "metadata": {},
   "outputs": [],
   "source": [
    "cat requirements.txt # open a file in a directory\n",
    "\n",
    "pip install -r requirements.txt # install contents of the requirements document"
   ]
  },
  {
   "attachments": {},
   "cell_type": "markdown",
   "metadata": {},
   "source": [
    "Running a Script\n",
    "\n",
    " To run a Python file, run the following command on the bash command line (not within the interpreter):"
   ]
  },
  {
   "cell_type": "code",
   "execution_count": null,
   "metadata": {},
   "outputs": [],
   "source": [
    "python <pwd>/<file.py>"
   ]
  },
  {
   "attachments": {},
   "cell_type": "markdown",
   "metadata": {},
   "source": [
    "### Python Data Types\n",
    "\n",
    "int - i.e -264, 0, 34\n",
    "\n",
    "float - i.e 1.07, 0, 3.142\n",
    "\n",
    "bool - True or False\n",
    "\n",
    "str - \"hello world\"\n",
    "\n",
    "bytes - b\"Cool \\xf0\\x9f\\x98\\x8e\"\n",
    "\n",
    "\n",
    "### Numerica Operators\n",
    "\n",
    "+ addition\n",
    "\n",
    "- subtraction\n",
    "\n",
    "* multiplication\n",
    "\n",
    "/ division\n",
    "\n",
    "// floor division\n",
    "\n",
    "% modulus (remainder)\n",
    "\n",
    "** power\n",
    "\n",
    "### String Operators\n",
    "\n",
    "+ Concatenation\n",
    "\n",
    "* multiplication\n",
    "\n",
    "### Methods with String Objects\n",
    "\n",
    "\"{}\".format(): The .format() method lets you insert named or unnamed placeholders {} in a string and then use the .format() method to insert values into those placeholders.\n",
    "\n",
    "The fstring method f\"{}\" has been introduced to provide optimizations, but does not deprecate the format method.\n",
    "\n",
    "\"\".split(): The .split() method lets you split a string into multiple strings using a separator that you provide as the delimiter.\n",
    "\n",
    "\"\".join(): The .join() method lets you put a sequence of strings together using, joining them with a separator that you provide."
   ]
  },
  {
   "cell_type": "code",
   "execution_count": null,
   "metadata": {},
   "outputs": [],
   "source": [
    "\"duplex {}\".format(\"full\")\n",
    "\"interface {name}, port {port}\".format(name=\"gigabitethernet\", port=\"0/1\")\n",
    "\"device hostname ipaddress\".split(\" \")\n",
    "\",\".join(['device', 'hostname', 'ipaddress'])"
   ]
  },
  {
   "attachments": {},
   "cell_type": "markdown",
   "metadata": {},
   "source": [
    "If you have heard of \"f-strings,\" also called formatted literal strings, they are also convenient when you want to store variables and output them in known places."
   ]
  },
  {
   "cell_type": "code",
   "execution_count": null,
   "metadata": {},
   "outputs": [],
   "source": [
    "tool = \"git clone \"\n",
    "host = \"https://github.com/\"\n",
    "org = \"CiscoDevNet\"\n",
    "repo = \"/netprog_basics\"\n",
    "f\"{tool}{host}{org}{repo}\""
   ]
  },
  {
   "attachments": {},
   "cell_type": "markdown",
   "metadata": {},
   "source": [
    "### Getting input\n",
    "\n",
    "To prompt a user for some information, use the input() function. It displays your prompt to the user and return their input, which you can assign to a variable."
   ]
  },
  {
   "cell_type": "code",
   "execution_count": null,
   "metadata": {},
   "outputs": [],
   "source": [
    "answer = input(\"What is the hostname? \")\n",
    "print(answer)"
   ]
  },
  {
   "attachments": {},
   "cell_type": "markdown",
   "metadata": {},
   "source": [
    "### Displaying Output\n",
    "\n",
    "Use the print() function to display output to the user. It accepts a variable number of parameters, converts them all to strings (str) and then joins them together with a space \" \" separator between each of the items. This function is a quick and easy way to combine several items and display the output to the user.\n"
   ]
  },
  {
   "cell_type": "code",
   "execution_count": null,
   "metadata": {},
   "outputs": [],
   "source": [
    "addr_range = 2\n",
    "print(\"Checking for \", addr_range, \"address ranges.\")"
   ]
  },
  {
   "attachments": {},
   "cell_type": "markdown",
   "metadata": {},
   "source": [
    "### Conditionals\n",
    "\n",
    "When you start using variables, sometimes you may not know what they point to. Alternatively, you may want to branch your code and take different paths that are based on some condition. That's why Python has if and elif (\"else if\") statements.\n",
    "\n",
    "If statements:\n",
    "\n",
    "The below if syntax reads:\n",
    "\n",
    "If expression_1 is True, do the following block of indented statements.\n",
    "\n",
    "Else if expression_2 is True, do the following block of indented statements.\n",
    "\n",
    "Else do the following block of indented statements."
   ]
  },
  {
   "cell_type": "code",
   "execution_count": null,
   "metadata": {},
   "outputs": [],
   "source": [
    "if expression_1:\n",
    "    statements…\n",
    "elif expression_2:\n",
    "    statements…\n",
    "else:\n",
    "    statements…"
   ]
  },
  {
   "attachments": {},
   "cell_type": "markdown",
   "metadata": {},
   "source": [
    "### Comparison operators and logical expressions:\n",
    "\n",
    "< Less than\n",
    "\n",
    "/ > greater than\n",
    "\n",
    "<= less than or equal to\n",
    "\n",
    "=> greater than or equal to\n",
    "\n",
    "== Equal to\n",
    "\n",
    "!= not equal to\n",
    "\n",
    "in Contains Element\n",
    "\n",
    "\n",
    "i.e 1:\n"
   ]
  },
  {
   "cell_type": "code",
   "execution_count": null,
   "metadata": {},
   "outputs": [],
   "source": [
    "n = 5\n",
    "if n < 5:\n",
    "     print(\"n is less than five\")\n",
    "elif n == 5:\n",
    "     print(\"n is equal to five\")\n",
    "else:\n",
    "     print(\"n is greater than five\")"
   ]
  },
  {
   "attachments": {},
   "cell_type": "markdown",
   "metadata": {},
   "source": [
    "i.e 2:"
   ]
  },
  {
   "cell_type": "code",
   "execution_count": null,
   "metadata": {},
   "outputs": [],
   "source": [
    "findit = \"team\"\n",
    "if \"I\" in findit:\n",
    "    print(\"Yes, there's an I in team\")\n",
    "else:\n",
    "    print(\"There's no I in \" + findit)"
   ]
  },
  {
   "attachments": {},
   "cell_type": "markdown",
   "metadata": {},
   "source": [
    "### Functions\n",
    "\n",
    " Functions let you write a piece of code once, give it a name, and then call that piece of code whenever you need it. They can (optionally) accept input arguments and return output that enables you to create operations that take input and return output according to your needs.\n",
    "\n",
    "Naming functions need to follow some rules:\n",
    "\n",
    "- Cannot start with a number [0-9]\n",
    "- Cannot conflict with a language keyword\n",
    "- Can contain: [A-Za-z0-9_-]\n"
   ]
  },
  {
   "cell_type": "code",
   "execution_count": null,
   "metadata": {},
   "outputs": [],
   "source": [
    "def function_name(arg_1, arg_2):\n",
    "    statements...\n",
    "    return value"
   ]
  },
  {
   "attachments": {},
   "cell_type": "markdown",
   "metadata": {},
   "source": [
    "When defining a function, arguments are variable names that you create. When you call a function, you pass in values for each of the arguments. These values will be assigned to the variable names you defined. These variables can be used within the body of your function to carry out the purpose of your function.\n",
    "\n",
    "Your function may optionally return some value.\n",
    "\n",
    "The following example shows a function that is named add:"
   ]
  },
  {
   "cell_type": "code",
   "execution_count": null,
   "metadata": {},
   "outputs": [],
   "source": [
    "def add(num1, num2):\n",
    "     result = num1 + num2\n",
    "     return result\n"
   ]
  },
  {
   "attachments": {},
   "cell_type": "markdown",
   "metadata": {},
   "source": [
    "## Built-in Python Data Structures\n",
    "\n",
    "The most commonly used python data structures are lists, tuples and dictionary \n",
    "\n",
    "\n",
    "### Lists\n",
    "\n",
    "Lists are roughly analogous to arrays in other programming languages. However, a Python list can contain elements of different data types:\n",
    "- Ordered list of items\n",
    "- Mutable (can be changed after created)\n",
    "- Items can be different data types\n",
    "- Can contain duplicate items\n",
    "\n",
    "You create a list by using square braces [] and separating the elements of the list with commas:"
   ]
  },
  {
   "cell_type": "code",
   "execution_count": null,
   "metadata": {},
   "outputs": [],
   "source": [
    "list_data = [\"ssh\", \"tcp\", \"ftp\", 19.2, 20.1]"
   ]
  },
  {
   "attachments": {},
   "cell_type": "markdown",
   "metadata": {},
   "source": [
    "lookup an item in the list, with the index point starting at 0:n:"
   ]
  },
  {
   "cell_type": "code",
   "execution_count": null,
   "metadata": {},
   "outputs": [],
   "source": [
    "list_data[2]"
   ]
  },
  {
   "attachments": {},
   "cell_type": "markdown",
   "metadata": {},
   "source": [
    "add to the list using the <list-name> .append(\"item\") method:"
   ]
  },
  {
   "cell_type": "code",
   "execution_count": null,
   "metadata": {},
   "outputs": [],
   "source": [
    "list_data.append(\"another_item\")"
   ]
  },
  {
   "attachments": {},
   "cell_type": "markdown",
   "metadata": {},
   "source": [
    "### Tuples\n",
    "\n",
    "Tuples are similar to lists with one major difference: immutability. A list can be changed, or mutated, after it is created: add items, update items, remove items, and so on. A tuple is immutable, which means that you cannot change it after creation.\n",
    "\n",
    "You create a tuple by using parentheses () and separating the elements of the tuples with commas. Accessing elements with indexing is the same as with lists, though you cannot update an element of a tuple."
   ]
  },
  {
   "cell_type": "code",
   "execution_count": null,
   "metadata": {},
   "outputs": [],
   "source": [
    "tuple_data = (\"south-east\", \"south-west\")\n",
    "\n",
    "# check for the first item in the tuple\n",
    "\n",
    "tuple_data[0]"
   ]
  },
  {
   "attachments": {},
   "cell_type": "markdown",
   "metadata": {},
   "source": [
    "### Dictionaries\n",
    "\n",
    "A dictionary is a data structure that stores simple key-value pairs. Dictionaries are analogous to \"hashes\" in some other languages. They make it fast and easy to store and retrieve a value by supplying a key to be used as an index for that value.\n",
    "\n",
    "Values: The values in a Python dictionary can be anything, and like lists, the types don't have to be consistent.\n",
    "Keys: A dictionary's keys have an important restriction: whatever you want to use as a key has to be immutable and hash-able. This means that you could use a tuple as a key (immutable), but not a list (mutable). Also, the basic data types that you learned about in Intro to Python - Interpreter and Basics (int, float, bool, str, bytes) are immutable and can be used as dictionary keys.\n",
    "\n",
    "\n",
    "You create a dictionary by using curly braces {}, separating a key from its value with a colon :, and separating the key-value pairs with commas. You access and update elements using indexing. However, instead of using numerical sequential index numbers, you use the key as the index. You can add new elements simply by assigning a value to a new key.\n",
    "\n"
   ]
  },
  {
   "cell_type": "code",
   "execution_count": null,
   "metadata": {},
   "outputs": [],
   "source": [
    "devicehost = {\"ipv4address\": \"192.168.0.10\", \"traffic\": \"inbound\", \"port\": 40044}\n",
    "\n",
    "# Check value for the below key:\n",
    "devicehost[\"traffic\"]"
   ]
  },
  {
   "attachments": {},
   "cell_type": "markdown",
   "metadata": {},
   "source": [
    "you can update the value of a key like so:"
   ]
  },
  {
   "cell_type": "code",
   "execution_count": null,
   "metadata": {},
   "outputs": [],
   "source": [
    "devicehost[\"ipv4address\"] = \"new.new.new.new\"\n",
    "\n",
    "# Check the updated dictionary:\n",
    "devicehost"
   ]
  },
  {
   "attachments": {},
   "cell_type": "markdown",
   "metadata": {},
   "source": [
    "add a key:value pair to an existing dictionary:"
   ]
  },
  {
   "cell_type": "code",
   "execution_count": null,
   "metadata": {},
   "outputs": [],
   "source": [
    "devicehost[\"newkey\"] = \"newvalue\"\n",
    "\n",
    "# check the updated dictionary:\n",
    "devicehost"
   ]
  },
  {
   "attachments": {},
   "cell_type": "markdown",
   "metadata": {},
   "source": [
    "### Sets\n"
   ]
  },
  {
   "cell_type": "code",
   "execution_count": null,
   "metadata": {},
   "outputs": [],
   "source": []
  },
  {
   "attachments": {},
   "cell_type": "markdown",
   "metadata": {},
   "source": [
    "## Loops\n",
    "\n",
    "In Python, for loops are so useful that many Python coders rarely use while loops. A for loop iterates through a sequence or collection, essentially taking one item at a time and running the block of statements until all items have been iterated through (or you manually break out of the loop from within the code block).\n",
    "\n",
    "### Python for loop syntax\n",
    "\n",
    "for individual_item in iterator:\n",
    "    statements…"
   ]
  },
  {
   "cell_type": "code",
   "execution_count": null,
   "metadata": {},
   "outputs": [],
   "source": [
    "names = [\"James\", \"carl\", \"john\"]\n",
    "\n",
    "for name in names:\n",
    "    print(name)"
   ]
  },
  {
   "attachments": {},
   "cell_type": "markdown",
   "metadata": {},
   "source": [
    "You can use the range() function that can create sequences:"
   ]
  },
  {
   "cell_type": "code",
   "execution_count": null,
   "metadata": {},
   "outputs": [],
   "source": [
    "numbers = range(5)\n",
    "\n",
    "for num in numbers:\n",
    "    print(num)"
   ]
  },
  {
   "attachments": {},
   "cell_type": "markdown",
   "metadata": {},
   "source": [
    "Iterating through a Dictionary:"
   ]
  },
  {
   "cell_type": "code",
   "execution_count": null,
   "metadata": {},
   "outputs": [],
   "source": [
    "dc_inventory = {\"switches\": 5, \"routers\": 2, \"firewalls\": 9}\n",
    "for device in dc_inventory:\n",
    "     print(device)\n",
    "     \n",
    "# To view the entire key:value list of tuples:\n",
    "\n",
    "list(dc_inventory.items())"
   ]
  },
  {
   "attachments": {},
   "cell_type": "markdown",
   "metadata": {},
   "source": [
    "### Unpacking \n",
    "\n",
    "Python has a feature where you can assign a collection of items to a collection of variables. This is called unpacking."
   ]
  },
  {
   "cell_type": "code",
   "execution_count": null,
   "metadata": {},
   "outputs": [],
   "source": [
    "a, b, c = [1, 2, 3]\n",
    "\n",
    "print(c)"
   ]
  },
  {
   "attachments": {},
   "cell_type": "markdown",
   "metadata": {},
   "source": [
    "We can use unpacking to separate those (key, value) tuples that the .items() method returns into variable names of our choosing."
   ]
  },
  {
   "cell_type": "code",
   "execution_count": null,
   "metadata": {},
   "outputs": [],
   "source": [
    "for device, quantity in dc_inventory.items():\n",
    "     print(\"You have {} {} in the SW data center.\".format(quantity, device))"
   ]
  },
  {
   "attachments": {},
   "cell_type": "markdown",
   "metadata": {},
   "source": [
    "### Conditional Loops\n",
    "\n",
    "Conditional loops (while loops in Python) evaluate an expression before each iteration of the loop. If the expression evaluates to True, the loop statements are executed. If the expression evaluates to False, the loop statements are not executed and the script continues with the first line after the loop block.\n",
    "\n",
    "while expression:\n",
    "    statements.."
   ]
  },
  {
   "cell_type": "code",
   "execution_count": null,
   "metadata": {},
   "outputs": [],
   "source": [
    "i = 1\n",
    "\n",
    "while i < 5:\n",
    "    print(i)\n",
    "    i += 1"
   ]
  },
  {
   "attachments": {},
   "cell_type": "markdown",
   "metadata": {},
   "source": [
    "### Python Scripting\n",
    "\n",
    "The triple-quoted string at the beginning of this Python script is a module docstring. This docstring is a built-in mechanism for documenting the module's purpose and functionality. \n",
    "\n",
    "The interpreter saves this string as a special __doc__ variable for the module.\n",
    "\n"
   ]
  },
  {
   "cell_type": "code",
   "execution_count": null,
   "metadata": {},
   "outputs": [],
   "source": [
    "#!/usr/bin/env/ python \n",
    "\n",
    "# \"The Shebang line - The first statement in many executable Python scripts isn't meant for the Python interpreter. This line tells the shell attempting to run the script what interpreter should be used to \"execute\" the script.\"\n",
    "\n",
    "\"\"\"Module docstring.\n",
    "\n",
    "Copyright (c) 2018-2021 Cisco and/or its affiliates.\n",
    "\n",
    "Permission is hereby granted, free of charge, to any person obtaining a copy\n",
    "of this software and associated documentation files (the \"Software\"), to deal\n",
    "in the Software without restriction, including without limitation the rights\n",
    "to use, copy, modify, merge, publish, distribute, sublicense, and/or sell\n",
    "copies of the Software, and to permit persons to whom the Software is\n",
    "furnished to do so, subject to the following conditions:\n",
    "\n",
    "The above copyright notice and this permission notice shall be included in all\n",
    "copies or substantial portions of the Software.\n",
    "\n",
    "THE SOFTWARE IS PROVIDED \"AS IS\", WITHOUT WARRANTY OF ANY KIND, EXPRESS OR\n",
    "IMPLIED, INCLUDING BUT NOT LIMITED TO THE WARRANTIES OF MERCHANTABILITY,\n",
    "FITNESS FOR A PARTICULAR PURPOSE AND NONINFRINGEMENT. IN NO EVENT SHALL THE\n",
    "AUTHORS OR COPYRIGHT HOLDERS BE LIABLE FOR ANY CLAIM, DAMAGES OR OTHER\n",
    "LIABILITY, WHETHER IN AN ACTION OF CONTRACT, TORT OR OTHERWISE, ARISING FROM,\n",
    "OUT OF OR IN CONNECTION WITH THE SOFTWARE OR THE USE OR OTHER DEALINGS IN THE\n",
    "SOFTWARE.\n",
    "\"\"\""
   ]
  },
  {
   "attachments": {},
   "cell_type": "markdown",
   "metadata": {},
   "source": [
    "### Importing Modules\n",
    "\n",
    "Import statements import other code into your script so that you can use their functionality.\n",
    "\n",
    "Once your script has been run, you can now use dot-syntax to access the contents of that module, including variables, functions, and classes.\n",
    "\n",
    "### Imports\n",
    "   import os\n",
    "   import sys\n",
    "\n",
    "### Module Constants\n",
    "\n",
    "Module constants are simple variable definitions and conventionally have all-CAPS variable names. Nothing in the Python language makes these \"constant.\" Their values are editable. Python developers recognize an all-CAPS variable name as something that we probably shouldn't change.\n",
    "\n",
    "   START_MESSAGE = \"CLI Inspection Script\"\n",
    "\n",
    "### Module-level \"global\" variables\n",
    "Every function and class within the module has at least \"read access\" to these variables as they exist at the top-level \"global\" scope within a module.\n",
    "\n",
    "    Module \"Global\" Variables\n",
    "        // The interpreter creates variables with these names and values.\n",
    "        location = os.path.abspath(__file__)\n",
    "\n",
    "### Module Functions and Classes\n",
    "As the interpreter encounters new function or class definitions, it creates and stores them in memory to make them available to subsequent portions of your code.\n",
    "\n"
   ]
  },
  {
   "cell_type": "code",
   "execution_count": null,
   "metadata": {},
   "outputs": [],
   "source": [
    " # Module Functions and Classes\n",
    "   def main(*args):\n",
    "       \"\"\"My main script function.\n",
    "\n",
    "       Displays the full path to this script, and a list of the arguments passed\n",
    "       to the script.\n",
    "       \"\"\"\n",
    "       print(START_MESSAGE)\n",
    "       print(\"Script Location:\", location)\n",
    "       print(\"Arguments Passed:\", args)"
   ]
  },
  {
   "attachments": {},
   "cell_type": "markdown",
   "metadata": {},
   "source": [
    "The statements within a function (or class) definition aren't \"executed\" when they are defined. They are \"loaded\" and made available for future use in your script. You must call a function and supply any required arguments to execute its block of statements.\n",
    "\n",
    "### The if __name__ == '__main__' block\n",
    "\n",
    "Some Python files could serve as both an executed script and an imported module. When a Python script is executed, the Python interpreter gives it the internal __name__ of __main__. All other modules, when they are imported by a calling script, see their __name__ as their own module name. This enables you to use the __name__ variable to determine (at run time) if a Python file is being executed or imported. You can use if-clauses like this to create actions, execute functions, and so on, if your file is the one being executed."
   ]
  },
  {
   "cell_type": "code",
   "execution_count": null,
   "metadata": {},
   "outputs": [],
   "source": [
    "# Check to see if this file is the \"__main__\" script being executed\n",
    "   if __name__ == '__main__':\n",
    "       _, *script_args = sys.argv\n",
    "       main(*script_args)"
   ]
  },
  {
   "attachments": {},
   "cell_type": "markdown",
   "metadata": {},
   "source": [
    "If this file is the \"__main__\" script being executed, the if statement evaluates to True and the interpreter executes the statements inside the if block. This enables you to parse any command-line parameters, initialize any global variables, and so on, and then call a script's \"main\" function.\n",
    "\n",
    "### Order\n",
    "Why should you use this order to structure a Python file?\n",
    "\n",
    "The linear execution order of statements within a Python file drives this ordering convention.\n",
    "\n",
    "Modules must be imported before you can use them.\n",
    "Your script must create module-level constants and variables before using them.\n",
    "Functions and classes have to be defined before they can be referenced and used.\n",
    "This linearity creates a chain of prerequisites that dictates the order in which objects and actions must be created.\n",
    "\n",
    "You can use two different syntaxes to import functionality into a script:\n",
    "\n",
    "### The Import Statement\n",
    "\n",
    " import os\n",
    "From... Import...\n",
    "\n",
    " from os.path import abspath\n",
    "Both of these examples illustrate how to import functionality from the os module.\n",
    "\n",
    "- In the first example, we imported the os module and would access the functionality within it using dot-syntax. (that is, os.path.abspath()).\n",
    "- In the second example, we import the abspath function from the os.path module, and we can now call it directly: abspath(), without having to use the full os.path.abspath() syntax. The from ___ import ___ syntax enables you to use only the required functionality and simplify the names of deeply nested resources.\n",
    "\n",
    "### Variable Scope\n",
    "Variables are defined in the scope in which they are created.\n",
    "\n",
    "Variables that are created outside of any function or class are defined at module scope. These variables can be accessed by every function and class that is created within that module.\n",
    "Variables that are created inside a function or class are defined only within the local scope in which they have been created. They can only be accessed by statements that execute within the same local scope.\n",
    "Note: Function arguments are locally scoped variables.\n",
    "\n",
    "- The module_variable is created outside of any function or class.\n",
    "- The local_variable is created inside a function.\n",
    "- The argument_variable's name is defined as part of the function definition, but its value isn't assigned until the function is called.\n",
    "Now, run this script on your developer workstation to see the output:\n",
    "\n",
    "### Use the Python interactive shell\n",
    "You can instruct the Python interpreter to run your script and then stay in the interactive shell by passing it the -i option when running your script.\n",
    "\n",
    "$ python -i <script_name.py>\n",
    "\n",
    "This option helps you to interactively test or experiment with your code by enabling you to:\n",
    "\n",
    "- Call your functions.\n",
    "- Inspect module-scope variables (remember that you can't access a locally scoped variable outside of its function).\n",
    "- Incrementally build your code: run everything that you have completed so far, and then use the interactive shell to figure out what you must do next.\n",
    "- Test out fixes to your code. Did you call a function incorrectly? How should you call it? Interactive testing in the interactive shell can help you figure out what your statements should be, and then you can go back and edit your code to incorporate the changes.\n"
   ]
  },
  {
   "attachments": {},
   "cell_type": "markdown",
   "metadata": {},
   "source": [
    "# References:\n",
    "\n",
    "Python Docs: Truth Value Testing - https://docs.python.org/3/library/stdtypes.html#truth-value-testing\n",
    "\n",
    "pepzs - https://peps.python.org/pep-0008/\n",
    "\n",
    "https://python-patterns.guide/gang-of-four/singleton/\n",
    "\n",
    "Python Data Structures: https://docs.python.org/3/tutorial/datastructures.html\n",
    "\n",
    "Python Lists: https://docs.python.org/3/tutorial/datastructures.html#more-on-lists\n",
    "\n",
    "Python Dicts: https://docs.python.org/3/library/stdtypes.html#typesmapping\n",
    "\n",
    "Python Sets: https://docs.python.org/3/tutorial/datastructures.html#sets\n",
    "\n",
    "Python Collections: https://docs.python.org/3/library/collections.html\n",
    "\n",
    "Truth Value Testing: https://docs.python.org/3/library/stdtypes.html#truth-value-testing\n",
    "\n"
   ]
  }
 ],
 "metadata": {
  "kernelspec": {
   "display_name": "Python 3",
   "language": "python",
   "name": "python3"
  },
  "language_info": {
   "codemirror_mode": {
    "name": "ipython",
    "version": 3
   },
   "file_extension": ".py",
   "mimetype": "text/x-python",
   "name": "python",
   "nbconvert_exporter": "python",
   "pygments_lexer": "ipython3",
   "version": "3.9.6"
  },
  "orig_nbformat": 4,
  "vscode": {
   "interpreter": {
    "hash": "31f2aee4e71d21fbe5cf8b01ff0e069b9275f58929596ceb00d14d90e3e16cd6"
   }
  }
 },
 "nbformat": 4,
 "nbformat_minor": 2
}
