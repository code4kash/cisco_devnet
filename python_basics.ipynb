{
 "cells": [
  {
   "attachments": {},
   "cell_type": "markdown",
   "metadata": {},
   "source": [
    "v1.2\n",
    "\n",
    "# Introduction to Python\n",
    "\n",
    "### Python Virtual Environments\n",
    "\n",
    "Virtual environments are an elegant way to unclutter your global Python environment and isolate projects from each other. At first, they might sound somewhat mysterious, but they are conceptually simple.\n",
    "\n",
    "First, take a look at what is installed in the in-browser environment already:"
   ]
  },
  {
   "cell_type": "code",
   "execution_count": null,
   "metadata": {},
   "outputs": [],
   "source": [
    "pip freeze"
   ]
  },
  {
   "attachments": {},
   "cell_type": "markdown",
   "metadata": {},
   "source": [
    "Using Python virtual environments is best practice, so how about getting some practice here. The syntax for the venv command in Python 3 is as below:\n",
    "\n",
    "note: You won't see anything in return, but if you list the directory contents, you'll see a new <virtual environment name> folder listed:"
   ]
  },
  {
   "attachments": {},
   "cell_type": "markdown",
   "metadata": {},
   "source": [
    "python -m venv <virtual environment name>"
   ]
  },
  {
   "attachments": {},
   "cell_type": "markdown",
   "metadata": {},
   "source": [
    "Now you can go ahead and activate your Python virtual environment in the in-browser terminal:\n",
    "\n",
    "note: cd into the directory containing the virtual environment\n",
    "\n",
    "Windows: (Use the windows command if you are trying this in your own Windows environment in a Git Bash window.)\n",
    "\n"
   ]
  },
  {
   "cell_type": "code",
   "execution_count": null,
   "metadata": {},
   "outputs": [],
   "source": [
    "source <virtual environment name>/bin/activate # Linux\n",
    "\n",
    "source <virtual environment name>/Scripts/activate # Windows\n",
    "\n",
    "deactivate # deactivate venv"
   ]
  },
  {
   "attachments": {},
   "cell_type": "markdown",
   "metadata": {},
   "source": [
    "check \"pip freeze\" in the venv and you'll notice there are no packages installed.\n",
    "\n",
    "### Upgrade environment packages:\n",
    "\n",
    "Install the the following packages in the environments:\n",
    "\n",
    "1. Upgrade Python\n",
    "\n",
    "2. Install the Requests library\n",
    "\n",
    "\n",
    "\n"
   ]
  },
  {
   "cell_type": "code",
   "execution_count": null,
   "metadata": {},
   "outputs": [],
   "source": [
    "python -m pip install --upgrade pip # Upgrade Python\n",
    "\n",
    "pip install requests # Requests library"
   ]
  },
  {
   "attachments": {},
   "cell_type": "markdown",
   "metadata": {},
   "source": [
    "Verify Python Interpretator:"
   ]
  },
  {
   "cell_type": "code",
   "execution_count": null,
   "metadata": {},
   "outputs": [],
   "source": [
    "which python"
   ]
  },
  {
   "attachments": {},
   "cell_type": "markdown",
   "metadata": {},
   "source": [
    "Now verify that our package installed successfully.\n",
    "\n",
    "\n"
   ]
  },
  {
   "cell_type": "code",
   "execution_count": null,
   "metadata": {},
   "outputs": [],
   "source": [
    "pip list"
   ]
  },
  {
   "attachments": {},
   "cell_type": "markdown",
   "metadata": {},
   "source": [
    "Get the full path to the interpreter:\n"
   ]
  },
  {
   "cell_type": "code",
   "execution_count": null,
   "metadata": {},
   "outputs": [],
   "source": [
    "python -V"
   ]
  },
  {
   "attachments": {},
   "cell_type": "markdown",
   "metadata": {},
   "source": [
    "### Install requirements in a venv\n",
    "\n",
    "You can create a requirements.txt file in the directory and see and edit it's contents using the \"cat\" command.\n",
    "\n",
    "Next you can install the requirements using the below commands:"
   ]
  },
  {
   "cell_type": "code",
   "execution_count": null,
   "metadata": {},
   "outputs": [],
   "source": [
    "cat requirements.txt # open a file in a directory\n",
    "\n",
    "pip install -r requirements.txt # install contents of the requirements document"
   ]
  },
  {
   "attachments": {},
   "cell_type": "markdown",
   "metadata": {},
   "source": [
    "Running a Script\n",
    "\n",
    " To run a Python file, run the following command on the bash command line (not within the interpreter):"
   ]
  },
  {
   "cell_type": "code",
   "execution_count": null,
   "metadata": {},
   "outputs": [],
   "source": [
    "python <pwd>/<file.py>"
   ]
  },
  {
   "attachments": {},
   "cell_type": "markdown",
   "metadata": {},
   "source": [
    "### Python Data Types\n",
    "\n",
    "int - i.e -264, 0, 34\n",
    "\n",
    "float - i.e 1.07, 0, 3.142\n",
    "\n",
    "bool - True or False\n",
    "\n",
    "str - \"hello world\"\n",
    "\n",
    "bytes - b\"Cool \\xf0\\x9f\\x98\\x8e\"\n",
    "\n",
    "\n",
    "### Numerica Operators\n",
    "\n",
    "+ addition\n",
    "\n",
    "- subtraction\n",
    "\n",
    "* multiplication\n",
    "\n",
    "/ division\n",
    "\n",
    "// floor division\n",
    "\n",
    "% modulus (remainder)\n",
    "\n",
    "** power\n",
    "\n",
    "### String Operators\n",
    "\n",
    "+ Concatenation\n",
    "\n",
    "* multiplication\n",
    "\n",
    "### Methods with String Objects\n",
    "\n",
    "\"{}\".format(): The .format() method lets you insert named or unnamed placeholders {} in a string and then use the .format() method to insert values into those placeholders.\n",
    "\n",
    "The fstring method f\"{}\" has been introduced to provide optimizations, but does not deprecate the format method.\n",
    "\n",
    "\"\".split(): The .split() method lets you split a string into multiple strings using a separator that you provide as the delimiter.\n",
    "\n",
    "\"\".join(): The .join() method lets you put a sequence of strings together using, joining them with a separator that you provide."
   ]
  },
  {
   "cell_type": "code",
   "execution_count": null,
   "metadata": {},
   "outputs": [],
   "source": [
    "\"duplex {}\".format(\"full\")\n",
    "\"interface {name}, port {port}\".format(name=\"gigabitethernet\", port=\"0/1\")\n",
    "\"device hostname ipaddress\".split(\" \")\n",
    "\",\".join(['device', 'hostname', 'ipaddress'])"
   ]
  },
  {
   "attachments": {},
   "cell_type": "markdown",
   "metadata": {},
   "source": [
    "If you have heard of \"f-strings,\" also called formatted literal strings, they are also convenient when you want to store variables and output them in known places."
   ]
  },
  {
   "cell_type": "code",
   "execution_count": null,
   "metadata": {},
   "outputs": [],
   "source": [
    "tool = \"git clone \"\n",
    "host = \"https://github.com/\"\n",
    "org = \"CiscoDevNet\"\n",
    "repo = \"/netprog_basics\"\n",
    "f\"{tool}{host}{org}{repo}\""
   ]
  },
  {
   "attachments": {},
   "cell_type": "markdown",
   "metadata": {},
   "source": [
    "### Getting input\n",
    "\n",
    "To prompt a user for some information, use the input() function. It displays your prompt to the user and return their input, which you can assign to a variable."
   ]
  },
  {
   "cell_type": "code",
   "execution_count": null,
   "metadata": {},
   "outputs": [],
   "source": [
    "answer = input(\"What is the hostname? \")\n",
    "print(answer)"
   ]
  },
  {
   "attachments": {},
   "cell_type": "markdown",
   "metadata": {},
   "source": [
    "### Displaying Output\n",
    "\n",
    "Use the print() function to display output to the user. It accepts a variable number of parameters, converts them all to strings (str) and then joins them together with a space \" \" separator between each of the items. This function is a quick and easy way to combine several items and display the output to the user.\n"
   ]
  },
  {
   "cell_type": "code",
   "execution_count": null,
   "metadata": {},
   "outputs": [],
   "source": [
    "addr_range = 2\n",
    "print(\"Checking for \", addr_range, \"address ranges.\")"
   ]
  },
  {
   "attachments": {},
   "cell_type": "markdown",
   "metadata": {},
   "source": [
    "### Conditionals\n",
    "\n",
    "When you start using variables, sometimes you may not know what they point to. Alternatively, you may want to branch your code and take different paths that are based on some condition. That's why Python has if and elif (\"else if\") statements.\n",
    "\n",
    "If statements:\n",
    "\n",
    "The below if syntax reads:\n",
    "\n",
    "If expression_1 is True, do the following block of indented statements.\n",
    "\n",
    "Else if expression_2 is True, do the following block of indented statements.\n",
    "\n",
    "Else do the following block of indented statements."
   ]
  },
  {
   "cell_type": "code",
   "execution_count": null,
   "metadata": {},
   "outputs": [],
   "source": [
    "if expression_1:\n",
    "    statements…\n",
    "elif expression_2:\n",
    "    statements…\n",
    "else:\n",
    "    statements…"
   ]
  },
  {
   "attachments": {},
   "cell_type": "markdown",
   "metadata": {},
   "source": [
    "### Comparison operators and logical expressions:\n",
    "\n",
    "< Less than\n",
    "\n",
    "> greater than\n",
    "\n",
    "<= less than or equal to\n",
    "\n",
    "=> greater than or equal to\n",
    "\n",
    "== Equal to\n",
    "\n",
    "!= not equal to\n",
    "\n",
    "in Contains Element\n",
    "\n",
    "\n",
    "i.e 1:\n"
   ]
  },
  {
   "cell_type": "code",
   "execution_count": null,
   "metadata": {},
   "outputs": [],
   "source": [
    "n = 5\n",
    "if n < 5:\n",
    "     print(\"n is less than five\")\n",
    "elif n == 5:\n",
    "     print(\"n is equal to five\")\n",
    "else:\n",
    "     print(\"n is greater than five\")"
   ]
  },
  {
   "attachments": {},
   "cell_type": "markdown",
   "metadata": {},
   "source": [
    "i.e 2:"
   ]
  },
  {
   "cell_type": "code",
   "execution_count": null,
   "metadata": {},
   "outputs": [],
   "source": [
    "findit = \"team\"\n",
    "if \"I\" in findit:\n",
    "    print(\"Yes, there's an I in team\")\n",
    "else:\n",
    "    print(\"There's no I in \" + findit)"
   ]
  },
  {
   "attachments": {},
   "cell_type": "markdown",
   "metadata": {},
   "source": [
    "### Functions\n",
    "\n"
   ]
  },
  {
   "attachments": {},
   "cell_type": "markdown",
   "metadata": {},
   "source": [
    "# References:\n",
    "\n",
    "Python Docs: Truth Value Testing - https://docs.python.org/3/library/stdtypes.html#truth-value-testing\n",
    "\n",
    "pepzs - https://peps.python.org/pep-0008/"
   ]
  }
 ],
 "metadata": {
  "kernelspec": {
   "display_name": "Python 3",
   "language": "python",
   "name": "python3"
  },
  "language_info": {
   "codemirror_mode": {
    "name": "ipython",
    "version": 3
   },
   "file_extension": ".py",
   "mimetype": "text/x-python",
   "name": "python",
   "nbconvert_exporter": "python",
   "pygments_lexer": "ipython3",
   "version": "3.9.6"
  },
  "orig_nbformat": 4,
  "vscode": {
   "interpreter": {
    "hash": "31f2aee4e71d21fbe5cf8b01ff0e069b9275f58929596ceb00d14d90e3e16cd6"
   }
  }
 },
 "nbformat": 4,
 "nbformat_minor": 2
}
